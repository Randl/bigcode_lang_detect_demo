{
 "cells": [
  {
   "cell_type": "code",
   "execution_count": 7,
   "id": "e8bc5ae6",
   "metadata": {},
   "outputs": [],
   "source": [
    "from datasets import load_dataset, load_dataset_builder\n",
    "import subprocess\n",
    "import json\n",
    "import os\n",
    "import pandas as pd\n",
    "from tqdm import tqdm\n",
    "from collections import Counter"
   ]
  },
  {
   "cell_type": "code",
   "execution_count": 14,
   "id": "7772a12f",
   "metadata": {},
   "outputs": [],
   "source": [
    "\n",
    "df = pd.read_csv(\"new_extension_distribution.csv\")"
   ]
  },
  {
   "cell_type": "code",
   "execution_count": 11,
   "id": "b3e0d66a",
   "metadata": {},
   "outputs": [],
   "source": [
    "def load_data(language, ext):\n",
    "    ext = None if ext == \"nan\" else ext\n",
    "    samples = load_dataset(\n",
    "        \"loubnabnl/the-stack-inspection-data\",\n",
    "        data_dir=f\"data/{language}/{ext}\",\n",
    "        split=\"train\",\n",
    "    )\n",
    "    return samples"
   ]
  },
  {
   "cell_type": "code",
   "execution_count": 32,
   "id": "ec09873c",
   "metadata": {},
   "outputs": [],
   "source": [
    "def get_sample_lang(sample, fname):\n",
    "        with open(fname, 'w') as f:\n",
    "            f.write(sample['content'])\n",
    "        res = subprocess.run([\"github-linguist\", \"--json\", fname], capture_output=True)\n",
    "        res_dict = json.loads(res.stdout)\n",
    "        return res_dict"
   ]
  },
  {
   "cell_type": "code",
   "execution_count": 39,
   "id": "58ae4621",
   "metadata": {},
   "outputs": [],
   "source": [
    "def get_lang_counter(language, ext):\n",
    "    langs = []\n",
    "    ds = load_data(language, ext)\n",
    "    for i, sample in enumerate(tqdm(iter(ds))):\n",
    "        fname = f'{i}.{ext}'\n",
    "        res = get_sample_lang(sample, fname)\n",
    "        langs.append(list(res.values())[0]['language'])\n",
    "        os.remove(fname)\n",
    "    c = Counter(langs)\n",
    "    return c"
   ]
  },
  {
   "cell_type": "code",
   "execution_count": 38,
   "id": "bd6d6ebd",
   "metadata": {},
   "outputs": [
    {
     "name": "stderr",
     "output_type": "stream",
     "text": [
      "Found cached dataset json (/Users/evgeniizh/.cache/huggingface/datasets/loubnabnl___json/loubnabnl--the-stack-inspection-data-8296f9575f636333/0.0.0/0f7e3662623656454fcd2b650f34e886a7db4b9104504885bd462096cc7a9f51)\n",
      "1000it [03:58,  4.20it/s]"
     ]
    },
    {
     "name": "stdout",
     "output_type": "stream",
     "text": [
      "Counter({'Ada': 1000})\n"
     ]
    },
    {
     "name": "stderr",
     "output_type": "stream",
     "text": [
      "\n"
     ]
    }
   ],
   "source": [
    "\n",
    "\n",
    "for i, r in df.iterrows():\n",
    "    language, ext = r[2], r[1]\n",
    "    c = get_lang_counter(language, ext)\n",
    "    print(language, ext, c)\n",
    "    break"
   ]
  },
  {
   "cell_type": "code",
   "execution_count": null,
   "id": "94c92cc2",
   "metadata": {},
   "outputs": [
    {
     "name": "stderr",
     "output_type": "stream",
     "text": [
      "Found cached dataset json (/Users/evgeniizh/.cache/huggingface/datasets/loubnabnl___json/loubnabnl--the-stack-inspection-data-8296f9575f636333/0.0.0/0f7e3662623656454fcd2b650f34e886a7db4b9104504885bd462096cc7a9f51)\n",
      "408it [01:49,  1.81it/s]"
     ]
    }
   ],
   "source": [
    "language, ext ='ada', 'adb'\n",
    "c = get_lang_counter(language, ext)\n",
    "print(language, ext, c)"
   ]
  },
  {
   "cell_type": "code",
   "execution_count": null,
   "id": "7972df8e",
   "metadata": {},
   "outputs": [],
   "source": []
  }
 ],
 "metadata": {
  "kernelspec": {
   "display_name": "Python 3",
   "language": "python",
   "name": "python3"
  },
  "language_info": {
   "codemirror_mode": {
    "name": "ipython",
    "version": 3
   },
   "file_extension": ".py",
   "mimetype": "text/x-python",
   "name": "python",
   "nbconvert_exporter": "python",
   "pygments_lexer": "ipython3",
   "version": "3.11.2"
  }
 },
 "nbformat": 4,
 "nbformat_minor": 5
}
